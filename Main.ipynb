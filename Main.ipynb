{
 "cells": [
  {
   "cell_type": "code",
   "execution_count": 2,
   "id": "54b0855f-a11b-409c-a690-62df608204f1",
   "metadata": {},
   "outputs": [],
   "source": [
    "import numpy as np\n",
    "from PIL import Image\n",
    "\n",
    "import torch\n",
    "import torch.nn as nn\n",
    "import torch.nn.functional as F\n",
    "import torch.optim as optim\n",
    "\n",
    "import torchvision\n",
    "import torchvision.transforms as transforms\n",
    "from torchvision import datasets\n",
    "from torchvision.datasets import ImageFolder\n",
    "from torch.utils.data import random_split, DataLoader\n",
    "import matplotlib.pyplot as plt\n",
    "import os"
   ]
  },
  {
   "cell_type": "code",
   "execution_count": 3,
   "id": "a86b818c-144b-4c48-a5d5-45a159275720",
   "metadata": {},
   "outputs": [],
   "source": [
    "transform = transforms.Compose([\n",
    "    transforms.Resize((224, 224)),\n",
    "    transforms.ToTensor(),\n",
    "    transforms.Normalize((0.5,0.5,0.5),(0.5,0.5,0.5))\n",
    "])"
   ]
  },
  {
   "cell_type": "code",
   "execution_count": 4,
   "id": "88e549fc-9625-41e0-9158-1f88bab898cd",
   "metadata": {},
   "outputs": [],
   "source": [
    "def process_image(image_path):\n",
    "    image = Image.open(image_path)\n",
    "    image = transform(image).unsqueeze(0) \n",
    "    return image"
   ]
  },
  {
   "cell_type": "code",
   "execution_count": 5,
   "id": "e3f25ffb-0c62-425a-a35b-31d3ac3f8276",
   "metadata": {},
   "outputs": [],
   "source": [
    "def predict_image(image_path, model):\n",
    "    model.eval()  \n",
    "    image = process_image(image_path)  \n",
    "    outputs = model(image)  \n",
    "    _, predicted = torch.max(outputs, 1)  \n",
    "    predicted_class = class_names[predicted.item()]  \n",
    "    return predicted_class, outputs"
   ]
  },
  {
   "cell_type": "code",
   "execution_count": 6,
   "id": "b5b9942e-dbfd-426e-a42d-e5ba06a63cc3",
   "metadata": {},
   "outputs": [],
   "source": [
    "def show_image_and_prediction(image_path, model):\n",
    "    print(f\"Girdiğiniz Dosya Yolu: {image_path}\")\n",
    "    if not os.path.exists(image_path):\n",
    "        print(f\"Dosya bulunamadı: {image_path}\")\n",
    "        return\n",
    "    \n",
    "    predicted_class, outputs = predict_image(image_path, model)\n",
    "    _, predicted = torch.max(outputs, 1)\n",
    "    confidence = F.softmax(outputs, dim=1)[0][predicted.item()] * 100 \n",
    "    \n",
    "    print(f\"Attığınız Resim: {image_path}\")\n",
    "    print(f\"Uçak Modeli: {predicted_class}\")\n",
    "    print(f\"Doğruluk Oranı: {confidence.item():.2f}%\")\n",
    "    \n",
    "    img = Image.open(image_path)\n",
    "    plt.imshow(img)\n",
    "    plt.axis('off')  \n",
    "    plt.show()"
   ]
  },
  {
   "cell_type": "code",
   "execution_count": 7,
   "id": "52a142c5-8bed-451d-a962-6c7269841f04",
   "metadata": {},
   "outputs": [],
   "source": [
    "data_dir = './data/classes'"
   ]
  },
  {
   "cell_type": "code",
   "execution_count": 8,
   "id": "a49e7b87-f4b2-4b8a-928e-5a27516df5d7",
   "metadata": {},
   "outputs": [],
   "source": [
    "dataset = ImageFolder(data_dir, transform=transform)"
   ]
  },
  {
   "cell_type": "code",
   "execution_count": 9,
   "id": "5ec32ffa-9fd4-4bca-9d04-a910fd0e833d",
   "metadata": {},
   "outputs": [],
   "source": [
    "train_size = int(0.8 * len(dataset))\n",
    "test_size = len(dataset) - train_size  \n",
    "\n",
    "train_dataset, test_dataset = random_split(dataset, [train_size, test_size])\n",
    "\n",
    "\n",
    "train_loader = DataLoader(train_dataset, batch_size=32, shuffle=True, num_workers=2)\n",
    "test_loader = DataLoader(test_dataset, batch_size=32, shuffle=False, num_workers=2)"
   ]
  },
  {
   "cell_type": "code",
   "execution_count": 10,
   "id": "315cc06d-c24d-44d8-85d8-768b7f2ff68c",
   "metadata": {},
   "outputs": [],
   "source": [
    "class_names = ['A10','A400M','AG600','AH64','An22','An72','An124','An225','AV8B','B1']"
   ]
  },
  {
   "cell_type": "code",
   "execution_count": 11,
   "id": "d420b365-3536-42e9-bc3c-f34c05209ad5",
   "metadata": {},
   "outputs": [],
   "source": [
    "class NeuralNet(nn.Module):\n",
    "    def __init__(self):\n",
    "        super(NeuralNet, self).__init__()\n",
    "        self.conv1 = nn.Conv2d(3, 16, 5) \n",
    "        self.pool = nn.MaxPool2d(2, 2) \n",
    "        self.conv2 = nn.Conv2d(16, 32, 5) \n",
    "        self.fc1 = nn.Linear(32 * 53 * 53, 256)\n",
    "        self.fc2 = nn.Linear(256,128)\n",
    "        self.fc3 = nn.Linear(128,10)\n",
    "            \n",
    "    def forward(self, x):\n",
    "        x = self.pool(F.relu(self.conv1(x)))\n",
    "        x = self.pool(F.relu(self.conv2(x)))\n",
    "        x = torch.flatten(x, 1)\n",
    "        x = F.relu(self.fc1(x))\n",
    "        x = F.relu(self.fc2(x))\n",
    "        x = self.fc3(x)\n",
    "        return x"
   ]
  },
  {
   "cell_type": "code",
   "execution_count": 12,
   "id": "eec2aed6-0ddc-49c3-b94c-705c7e4de418",
   "metadata": {},
   "outputs": [],
   "source": [
    "net = NeuralNet()\n",
    "loss_function = nn.CrossEntropyLoss()\n",
    "optimizer = optim.SGD(net.parameters(),lr = 0.001 , momentum = 0.9)"
   ]
  },
  {
   "cell_type": "code",
   "execution_count": 13,
   "id": "23ae221d-039e-4aa1-a3b4-3e5dec9eb71a",
   "metadata": {
    "scrolled": true
   },
   "outputs": [
    {
     "name": "stdout",
     "output_type": "stream",
     "text": [
      "deniyorum epoch 0 ... \n",
      "Loss:2.1883\n"
     ]
    }
   ],
   "source": [
    "for epoch in range(1):\n",
    "    print(f'deniyorum epoch {epoch} ... ')\n",
    "    running_loss = 0.0 \n",
    "    \n",
    "    for i, data in enumerate(train_loader):\n",
    "        \n",
    "        inputs , labels = data\n",
    "    \n",
    "        optimizer.zero_grad()\n",
    "    \n",
    "        outputs = net(inputs)\n",
    "        \n",
    "        loss = loss_function(outputs, labels)\n",
    "        \n",
    "        loss.backward()\n",
    "        optimizer.step()\n",
    "        \n",
    "        running_loss += loss.item()\n",
    "        \n",
    "    print(f'Loss:{running_loss / len(train_loader):.4f}')"
   ]
  },
  {
   "cell_type": "code",
   "execution_count": 14,
   "id": "4cc2ebae-2049-48f1-b390-28758ddcc9b3",
   "metadata": {},
   "outputs": [],
   "source": [
    "torch.save(net.state_dict(), 'trained_net.pth')"
   ]
  },
  {
   "cell_type": "code",
   "execution_count": 15,
   "id": "0dc97574-fa21-40cb-929c-b8edbda3d660",
   "metadata": {},
   "outputs": [
    {
     "name": "stderr",
     "output_type": "stream",
     "text": [
      "C:\\Users\\emreg\\AppData\\Local\\Temp\\ipykernel_25800\\1690949604.py:2: FutureWarning: You are using `torch.load` with `weights_only=False` (the current default value), which uses the default pickle module implicitly. It is possible to construct malicious pickle data which will execute arbitrary code during unpickling (See https://github.com/pytorch/pytorch/blob/main/SECURITY.md#untrusted-models for more details). In a future release, the default value for `weights_only` will be flipped to `True`. This limits the functions that could be executed during unpickling. Arbitrary objects will no longer be allowed to be loaded via this mode unless they are explicitly allowlisted by the user via `torch.serialization.add_safe_globals`. We recommend you start setting `weights_only=True` for any use case where you don't have full control of the loaded file. Please open an issue on GitHub for any issues related to this experimental feature.\n",
      "  net.load_state_dict(torch.load('trained_net.pth'))\n"
     ]
    },
    {
     "data": {
      "text/plain": [
       "<All keys matched successfully>"
      ]
     },
     "execution_count": 15,
     "metadata": {},
     "output_type": "execute_result"
    }
   ],
   "source": [
    "net = NeuralNet()\n",
    "net.load_state_dict(torch.load('trained_net.pth'))"
   ]
  },
  {
   "cell_type": "code",
   "execution_count": 16,
   "id": "4265179c-b07f-4c7a-ae11-726103811e7c",
   "metadata": {},
   "outputs": [],
   "source": [
    "image_path = 'data/test/0a89565a88041220e21da1029da7996e_0.jpg'"
   ]
  },
  {
   "cell_type": "code",
   "execution_count": null,
   "id": "631e40b1-c384-46bb-9529-1c6a02e9a58d",
   "metadata": {
    "scrolled": true
   },
   "outputs": [
    {
     "name": "stdout",
     "output_type": "stream",
     "text": [
      "Girdiğiniz Dosya Yolu: data/test/0a89565a88041220e21da1029da7996e_0.jpg\n",
      "Attığınız Resim: data/test/0a89565a88041220e21da1029da7996e_0.jpg\n",
      "Uçak Modeli: A10\n",
      "Doğruluk Oranı: 20.89%\n"
     ]
    }
   ],
   "source": [
    "show_image_and_prediction(image_path, net)"
   ]
  }
 ],
 "metadata": {
  "kernelspec": {
   "display_name": "Python [conda env:base] *",
   "language": "python",
   "name": "conda-base-py"
  },
  "language_info": {
   "codemirror_mode": {
    "name": "ipython",
    "version": 3
   },
   "file_extension": ".py",
   "mimetype": "text/x-python",
   "name": "python",
   "nbconvert_exporter": "python",
   "pygments_lexer": "ipython3",
   "version": "3.12.7"
  }
 },
 "nbformat": 4,
 "nbformat_minor": 5
}
